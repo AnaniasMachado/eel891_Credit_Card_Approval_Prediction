{
 "cells": [
  {
   "cell_type": "markdown",
   "id": "79342d8f",
   "metadata": {},
   "source": [
    "# Pipeline de Aprendizado de Máquina para Aprovação de Crédito"
   ]
  },
  {
   "cell_type": "code",
   "execution_count": 1,
   "id": "4b294bbf",
   "metadata": {},
   "outputs": [],
   "source": [
    "\n",
    "import pandas as pd\n",
    "import numpy as np\n",
    "import seaborn as sns\n",
    "import matplotlib.pyplot as plt\n",
    "from sklearn.model_selection import StratifiedKFold, GridSearchCV, cross_val_score\n",
    "from sklearn.preprocessing import OneHotEncoder, StandardScaler\n",
    "from sklearn.compose import ColumnTransformer\n",
    "from sklearn.pipeline import Pipeline\n",
    "from sklearn.impute import SimpleImputer\n",
    "from sklearn.ensemble import RandomForestClassifier, GradientBoostingClassifier\n",
    "from sklearn.linear_model import LogisticRegression\n",
    "from sklearn.tree import DecisionTreeClassifier\n",
    "from sklearn.svm import SVC\n",
    "from sklearn.metrics import accuracy_score\n",
    "from xgboost import XGBClassifier\n",
    "from lightgbm import LGBMClassifier\n",
    "import warnings\n",
    "warnings.filterwarnings(\"ignore\")\n",
    "\n",
    "# Leitura dos dados\n",
    "df_train = pd.read_csv(\"./Dataset/conjunto_de_treinamento.csv\")\n",
    "df_test = pd.read_csv(\"./Dataset/conjunto_de_teste.csv\")\n",
    "\n",
    "test_id_solicitante = df_test[\"id_solicitante\"]"
   ]
  },
  {
   "cell_type": "markdown",
   "id": "c90a52f7",
   "metadata": {},
   "source": [
    "## 1. Análise Exploratória de Dados"
   ]
  },
  {
   "cell_type": "code",
   "execution_count": 2,
   "id": "9372336b",
   "metadata": {},
   "outputs": [
    {
     "name": "stdout",
     "output_type": "stream",
     "text": [
      "Formato do dataset de treino: (20000, 42)\n",
      "Variáveis com mais valores ausentes:\n",
      "grau_instrucao_companheiro    0.64300\n",
      "profissao_companheiro         0.57570\n",
      "profissao                     0.15485\n",
      "ocupacao                      0.14890\n",
      "meses_na_residencia           0.07250\n",
      "dtype: float64\n"
     ]
    },
    {
     "data": {
      "image/png": "[encoded data removed]",
      "text/plain": [
       "<Figure size 640x480 with 1 Axes>"
      ]
     },
     "metadata": {},
     "output_type": "display_data"
    }
   ],
   "source": [
    "\n",
    "print(\"Formato do dataset de treino:\", df_train.shape)\n",
    "print(\"Variáveis com mais valores ausentes:\")\n",
    "print(df_train.isnull().mean().sort_values(ascending=False).head())\n",
    "\n",
    "sns.countplot(x=\"inadimplente\", data=df_train)\n",
    "plt.title(\"Distribuição da variável alvo (inadimplente)\")\n",
    "plt.show()\n"
   ]
  },
  {
   "cell_type": "markdown",
   "id": "ffdbac58",
   "metadata": {},
   "source": [
    "## 2. Limpeza dos Dados"
   ]
  },
  {
   "cell_type": "code",
   "execution_count": 3,
   "id": "44e113ed",
   "metadata": {},
   "outputs": [],
   "source": [
    "\n",
    "colunas_ignoradas = [\n",
    "    \"id_solicitante\", \"grau_instrucao\", \"possui_telefone_celular\",\n",
    "    \"qtde_contas_bancarias_especiais\", \"meses_no_trabalho\",\n",
    "    \"profissao_companheiro\", \"grau_instrucao_companheiro\"\n",
    "]\n",
    "\n",
    "df_train.drop(columns=colunas_ignoradas, inplace=True)\n",
    "df_test.drop(columns=colunas_ignoradas, inplace=True)\n"
   ]
  },
  {
   "cell_type": "markdown",
   "id": "535515ab",
   "metadata": {},
   "source": [
    "## 3. Inputação de Valores Faltantes"
   ]
  },
  {
   "cell_type": "code",
   "execution_count": 4,
   "id": "6c23ac11",
   "metadata": {},
   "outputs": [],
   "source": [
    "\n",
    "colunas_numericas = [\"renda_mensal_regular\", \"renda_extra\"]\n",
    "colunas_categoricas = [col for col in df_train.columns if col not in colunas_numericas + [\"inadimplente\"]]\n",
    "\n",
    "X = df_train.drop(\"inadimplente\", axis=1)\n",
    "y = df_train[\"inadimplente\"]\n",
    "\n",
    "preprocessador = ColumnTransformer(transformers=[\n",
    "    (\"num\", Pipeline([\n",
    "        (\"imputer\", SimpleImputer(strategy=\"mean\")),\n",
    "        (\"scaler\", StandardScaler())\n",
    "    ]), colunas_numericas),\n",
    "    (\"cat\", Pipeline([\n",
    "        (\"imputer\", SimpleImputer(strategy=\"most_frequent\")),\n",
    "        (\"onehot\", OneHotEncoder(handle_unknown=\"ignore\"))\n",
    "    ]), colunas_categoricas)\n",
    "])\n"
   ]
  },
  {
   "cell_type": "markdown",
   "id": "fa7a57d7",
   "metadata": {},
   "source": [
    "## 4. Feature Engineering"
   ]
  },
  {
   "cell_type": "code",
   "execution_count": 5,
   "id": "c42ad6e3",
   "metadata": {},
   "outputs": [],
   "source": [
    "X[\"renda_total\"] = X[\"renda_mensal_regular\"].fillna(0) + X[\"renda_extra\"].fillna(0)\n",
    "df_test[\"renda_total\"] = df_test[\"renda_mensal_regular\"].fillna(0) + df_test[\"renda_extra\"].fillna(0)\n",
    "colunas_numericas.append(\"renda_total\")\n",
    "\n",
    "X[\"tem_renda_extra\"] = (X[\"renda_extra\"] > 0).astype(int)\n",
    "df_test[\"tem_renda_extra\"] = (df_test[\"renda_extra\"] > 0).astype(int)\n",
    "colunas_categoricas.append(\"renda_total\")\n",
    "\n",
    "cartao_cols = [\"possui_cartao_visa\", \"possui_cartao_mastercard\", \n",
    "                \"possui_cartao_diners\", \"possui_cartao_amex\", \"possui_outros_cartoes\"]\n",
    "X[\"total_cartoes\"] = X[cartao_cols].sum(axis=1)\n",
    "X[\"possui_cartao\"] = (X[\"total_cartoes\"] > 0).astype(int)\n",
    "df_test[\"total_cartoes\"] = df_test[cartao_cols].sum(axis=1)\n",
    "df_test[\"possui_cartao\"] = (df_test[\"total_cartoes\"] > 0).astype(int)\n",
    "colunas_categoricas.append(\"total_cartoes\")\n",
    "colunas_categoricas.append(\"possui_cartao\")\n",
    "\n",
    "X[\"idade_grupo\"] = pd.cut(X[\"idade\"], \n",
    "                                    bins=[0, 25, 35, 45, 55, 100], \n",
    "                                    labels=[\"jovem\", \"adulto_jovem\", \"adulto\", \"maduro\", \"senior\"])\n",
    "df_test[\"idade_grupo\"] = pd.cut(df_test[\"idade\"], \n",
    "                                    bins=[0, 25, 35, 45, 55, 100], \n",
    "                                    labels=[\"jovem\", \"adulto_jovem\", \"adulto\", \"maduro\", \"senior\"])\n",
    "colunas_categoricas.append(\"idade_grupo\")\n",
    "\n",
    "X[\"patrimonio_per_capita\"] = (X[\"valor_patrimonio_pessoal\"] / \n",
    "                                        (X[\"qtde_dependentes\"] + 1))\n",
    "df_test[\"patrimonio_per_capita\"] = (df_test[\"valor_patrimonio_pessoal\"] / \n",
    "                                        (df_test[\"qtde_dependentes\"] + 1))\n",
    "colunas_categoricas.append(\"patrimonio_per_capita\")"
   ]
  },
  {
   "cell_type": "markdown",
   "id": "62a20989",
   "metadata": {},
   "source": [
    "## 5. Modelos e Hiperparâmetros"
   ]
  },
  {
   "cell_type": "code",
   "execution_count": 6,
   "id": "23d6af0e",
   "metadata": {},
   "outputs": [],
   "source": [
    "\n",
    "modelos = {\n",
    "    \"GradientBoosting\": {\n",
    "        \"modelo\": GradientBoostingClassifier(),\n",
    "        \"parametros\": {\n",
    "            \"classificador__n_estimators\": [50, 100],\n",
    "            \"classificador__learning_rate\": [0.01, 0.1]\n",
    "        }\n",
    "    },\n",
    "    \"LogisticRegression\": {\n",
    "        \"modelo\": LogisticRegression(max_iter=5000),\n",
    "        \"parametros\": {\n",
    "            \"classificador__C\": [0.1, 1, 10],\n",
    "            \"classificador__penalty\": [\"l1\", \"l2\"],\n",
    "            \"classificador__solver\": [\"liblinear\"]\n",
    "        }\n",
    "    },\n",
    "    \"XGBoost\": {\n",
    "        \"modelo\": XGBClassifier(use_label_encoder=False, eval_metric='logloss'),\n",
    "        \"parametros\": {\n",
    "            \"classificador__n_estimators\": [50, 100],\n",
    "            \"classificador__learning_rate\": [0.01, 0.1]\n",
    "        }\n",
    "    },\n",
    "    \"LightGBM\": {\n",
    "        \"modelo\": LGBMClassifier(),\n",
    "        \"parametros\": {\n",
    "            \"classificador__n_estimators\": [50, 100],\n",
    "            \"classificador__learning_rate\": [0.01, 0.1]\n",
    "        }\n",
    "    },\n",
    "    \"RandomForest\": {\n",
    "        \"modelo\": RandomForestClassifier(),\n",
    "        \"parametros\": {\n",
    "            \"classificador__n_estimators\": [50, 100],\n",
    "            \"classificador__max_depth\": [None, 10, 20]\n",
    "        }\n",
    "    },\n",
    "    \"DecisionTree\": {\n",
    "        \"modelo\": DecisionTreeClassifier(),\n",
    "        \"parametros\": {\n",
    "            \"classificador__max_depth\": [None, 10, 20],\n",
    "            \"classificador__min_samples_split\": [2, 5, 10]\n",
    "        }\n",
    "    }\n",
    "}"
   ]
  },
  {
   "cell_type": "markdown",
   "id": "d797615e",
   "metadata": {},
   "source": [
    "## 6. Busca de Hiperparâmetros com Cross Validation"
   ]
  },
  {
   "cell_type": "code",
   "execution_count": null,
   "id": "527874ed",
   "metadata": {},
   "outputs": [
    {
     "name": "stdout",
     "output_type": "stream",
     "text": [
      "Treinando modelo: GradientBoosting\n",
      "Acurácia Média: 0.5911 | Desvio: 0.0043\n",
      "Treinando modelo: LogisticRegression\n",
      "Acurácia Média: 0.5997 | Desvio: 0.0029\n",
      "Treinando modelo: XGBoost\n",
      "Acurácia Média: 0.5927 | Desvio: 0.0017\n",
      "Treinando modelo: LightGBM\n",
      "Acurácia Média: 0.5955 | Desvio: 0.0051\n",
      "Treinando modelo: RandomForest\n",
      "Acurácia Média: 0.5884 | Desvio: 0.0036\n",
      "Treinando modelo: DecisionTree\n",
      "Acurácia Média: 0.5733 | Desvio: 0.0032\n"
     ]
    }
   ],
   "source": [
    "\n",
    "# resultados = []\n",
    "# melhor_modelo = None\n",
    "# melhor_score = 0\n",
    "\n",
    "# for nome, cfg in modelos.items():\n",
    "#     print(f\"Treinando modelo: {nome}\")\n",
    "#     pipeline = Pipeline([\n",
    "#         (\"pre\", preprocessador),\n",
    "#         (\"classificador\", cfg[\"modelo\"])\n",
    "#     ])\n",
    "#     grid = GridSearchCV(pipeline, cfg[\"parametros\"], cv=StratifiedKFold(n_splits=3), scoring=\"accuracy\")\n",
    "#     grid.fit(X, y)\n",
    "#     media = grid.best_score_\n",
    "#     std = grid.cv_results_[\"std_test_score\"][grid.best_index_]\n",
    "#     print(f\"Acurácia Média: {media:.4f} | Desvio: {std:.4f}\")\n",
    "#     resultados.append((nome, media, std))\n",
    "#     if media > melhor_score:\n",
    "#         melhor_score = media\n",
    "#         melhor_modelo = (nome, grid.best_estimator_)\n"
   ]
  },
  {
   "cell_type": "code",
   "execution_count": 18,
   "id": "6ae108bb",
   "metadata": {},
   "outputs": [
    {
     "name": "stdout",
     "output_type": "stream",
     "text": [
      "Treinando modelo: GradientBoosting\n",
      "Acurácia Média: 0.5908 | Desvio: 0.0041\n",
      "Treinando modelo: LogisticRegression\n",
      "Acurácia Média: 0.5997 | Desvio: 0.0029\n",
      "Treinando modelo: XGBoost\n",
      "Acurácia Média: 0.5927 | Desvio: 0.0017\n",
      "Treinando modelo: LightGBM\n",
      "Acurácia Média: 0.5955 | Desvio: 0.0051\n",
      "Treinando modelo: RandomForest\n",
      "Acurácia Média: 0.5900 | Desvio: 0.0032\n",
      "Treinando modelo: DecisionTree\n",
      "Acurácia Média: 0.5734 | Desvio: 0.0026\n"
     ]
    }
   ],
   "source": [
    "\n",
    "resultados = []\n",
    "melhor_modelo = None\n",
    "melhor_score = 0\n",
    "model_results = []\n",
    "\n",
    "for nome, cfg in modelos.items():\n",
    "    print(f\"Treinando modelo: {nome}\")\n",
    "    pipeline = Pipeline([\n",
    "        (\"pre\", preprocessador),\n",
    "        (\"classificador\", cfg[\"modelo\"])\n",
    "    ])\n",
    "    grid = GridSearchCV(pipeline, cfg[\"parametros\"], cv=StratifiedKFold(n_splits=3), scoring=\"accuracy\")\n",
    "    grid.fit(X, y)\n",
    "    media = grid.best_score_\n",
    "    std = grid.cv_results_[\"std_test_score\"][grid.best_index_]\n",
    "    print(f\"Acurácia Média: {media:.4f} | Desvio: {std:.4f}\")\n",
    "    resultados.append((nome, media, std))\n",
    "    model_results.append([media, (nome, grid.best_estimator_)])\n",
    "    if media > melhor_score:\n",
    "        melhor_score = media\n",
    "        melhor_modelo = (nome, grid.best_estimator_)\n"
   ]
  },
  {
   "cell_type": "markdown",
   "id": "9e6fa9f3",
   "metadata": {},
   "source": [
    "## 7. Modelo com Melhor Desempenho"
   ]
  },
  {
   "cell_type": "code",
   "execution_count": 8,
   "id": "e9eefb30",
   "metadata": {},
   "outputs": [
    {
     "name": "stdout",
     "output_type": "stream",
     "text": [
      "Melhor Modelo: LogisticRegression\n",
      "Acurácia: 0.5997\n"
     ]
    }
   ],
   "source": [
    "\n",
    "print(f\"Melhor Modelo: {melhor_modelo[0]}\")\n",
    "print(f\"Acurácia: {melhor_score:.4f}\")\n"
   ]
  },
  {
   "cell_type": "markdown",
   "id": "37dfe33c",
   "metadata": {},
   "source": [
    "## 8. Predição Final no Conjunto de Teste"
   ]
  },
  {
   "cell_type": "code",
   "execution_count": 9,
   "id": "d19c97a7",
   "metadata": {},
   "outputs": [
    {
     "data": {
      "text/html": [
       "<div>\n",
       "<style scoped>\n",
       "    .dataframe tbody tr th:only-of-type {\n",
       "        vertical-align: middle;\n",
       "    }\n",
       "\n",
       "    .dataframe tbody tr th {\n",
       "        vertical-align: top;\n",
       "    }\n",
       "\n",
       "    .dataframe thead th {\n",
       "        text-align: right;\n",
       "    }\n",
       "</style>\n",
       "<table border=\"1\" class=\"dataframe\">\n",
       "  <thead>\n",
       "    <tr style=\"text-align: right;\">\n",
       "      <th></th>\n",
       "      <th>id_solicitante</th>\n",
       "      <th>inadimplente</th>\n",
       "    </tr>\n",
       "  </thead>\n",
       "  <tbody>\n",
       "    <tr>\n",
       "      <th>0</th>\n",
       "      <td>20001</td>\n",
       "      <td>1</td>\n",
       "    </tr>\n",
       "    <tr>\n",
       "      <th>1</th>\n",
       "      <td>20002</td>\n",
       "      <td>1</td>\n",
       "    </tr>\n",
       "    <tr>\n",
       "      <th>2</th>\n",
       "      <td>20003</td>\n",
       "      <td>1</td>\n",
       "    </tr>\n",
       "    <tr>\n",
       "      <th>3</th>\n",
       "      <td>20004</td>\n",
       "      <td>0</td>\n",
       "    </tr>\n",
       "    <tr>\n",
       "      <th>4</th>\n",
       "      <td>20005</td>\n",
       "      <td>0</td>\n",
       "    </tr>\n",
       "  </tbody>\n",
       "</table>\n",
       "</div>"
      ],
      "text/plain": [
       "   id_solicitante  inadimplente\n",
       "0           20001             1\n",
       "1           20002             1\n",
       "2           20003             1\n",
       "3           20004             0\n",
       "4           20005             0"
      ]
     },
     "execution_count": 9,
     "metadata": {},
     "output_type": "execute_result"
    }
   ],
   "source": [
    "# Previsões com melhor modelo\n",
    "y_pred = melhor_modelo[1].predict(df_test)\n",
    "\n",
    "# Gerar arquivo de submissão\n",
    "df_submission = pd.DataFrame({\n",
    "    \"id_solicitante\": test_id_solicitante,\n",
    "    \"inadimplente\": y_pred\n",
    "})\n",
    "\n",
    "df_submission.to_csv(\"arquivo_submissao.csv\", index=False)\n",
    "df_submission.head()"
   ]
  },
  {
   "cell_type": "code",
   "execution_count": 21,
   "id": "af67b86e",
   "metadata": {},
   "outputs": [],
   "source": [
    "model_results_ordered = sorted(model_results, key=lambda x: x[0], reverse=True)\n",
    "for i in range(1, len(model_results_ordered)):\n",
    "    try:\n",
    "        # Previsões com ith model\n",
    "        ith_model = model_results_ordered[i][1]\n",
    "        y_pred = ith_model[1].predict(df_test)\n",
    "\n",
    "        # Gerar arquivo de submissão\n",
    "        df_submission = pd.DataFrame({\n",
    "            \"id_solicitante\": test_id_solicitante,\n",
    "            \"inadimplente\": y_pred\n",
    "        })\n",
    "\n",
    "        df_submission.to_csv(f\"arquivo_submissao_{i}.csv\", index=False)\n",
    "        df_submission.head()\n",
    "    except:\n",
    "        print(f\"i = {i}\")"
   ]
  }
 ],
 "metadata": {
  "kernelspec": {
   "display_name": "General_Work_Kernel",
   "language": "python",
   "name": "general_work_kernel"
  },
  "language_info": {
   "codemirror_mode": {
    "name": "ipython",
    "version": 3
   },
   "file_extension": ".py",
   "mimetype": "text/x-python",
   "name": "python",
   "nbconvert_exporter": "python",
   "pygments_lexer": "ipython3",
   "version": "3.11.5"
  }
 },
 "nbformat": 4,
 "nbformat_minor": 5
}
